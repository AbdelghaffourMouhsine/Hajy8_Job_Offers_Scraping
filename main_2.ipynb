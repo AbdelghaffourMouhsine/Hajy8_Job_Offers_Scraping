{
 "cells": [
  {
   "cell_type": "code",
   "execution_count": 5,
   "id": "b03f430e-fb0e-4ad9-85b1-71a30b003720",
   "metadata": {},
   "outputs": [
    {
     "data": {
      "text/html": [
       "<div>\n",
       "<style scoped>\n",
       "    .dataframe tbody tr th:only-of-type {\n",
       "        vertical-align: middle;\n",
       "    }\n",
       "\n",
       "    .dataframe tbody tr th {\n",
       "        vertical-align: top;\n",
       "    }\n",
       "\n",
       "    .dataframe thead th {\n",
       "        text-align: right;\n",
       "    }\n",
       "</style>\n",
       "<table border=\"1\" class=\"dataframe\">\n",
       "  <thead>\n",
       "    <tr style=\"text-align: right;\">\n",
       "      <th></th>\n",
       "      <th>index</th>\n",
       "      <th>company_name</th>\n",
       "      <th>company_size</th>\n",
       "      <th>company_linkedin_url</th>\n",
       "      <th>Secteur</th>\n",
       "      <th>Spécialisations</th>\n",
       "      <th>Profile_name</th>\n",
       "      <th>Profile_role</th>\n",
       "      <th>Profile_linkedin</th>\n",
       "      <th>job_source</th>\n",
       "      <th>key_words</th>\n",
       "      <th>job_title</th>\n",
       "      <th>job_description</th>\n",
       "      <th>job_url</th>\n",
       "    </tr>\n",
       "  </thead>\n",
       "  <tbody>\n",
       "    <tr>\n",
       "      <th>0</th>\n",
       "      <td>1</td>\n",
       "      <td>CRISTAL DECISIONS</td>\n",
       "      <td>11-50 employés</td>\n",
       "      <td>https://www.linkedin.com/company/cristal-decis...</td>\n",
       "      <td>Services et conseil aux entreprises</td>\n",
       "      <td>Optimisation des achats indirects, Assurances,...</td>\n",
       "      <td>Laurent HORNEZ</td>\n",
       "      <td>Directeur associé - Cristal Décisions</td>\n",
       "      <td>https://www.linkedin.com/in/laurent-hornez-307...</td>\n",
       "      <td>linkedin</td>\n",
       "      <td>senior business developer</td>\n",
       "      <td>Business developer spécialisé Mobilité</td>\n",
       "      <td>À propos de l’offre d’emploi\\n✨ Qui sommes-nou...</td>\n",
       "      <td>https://www.linkedin.com/jobs/search/?currentJ...</td>\n",
       "    </tr>\n",
       "    <tr>\n",
       "      <th>1</th>\n",
       "      <td>1</td>\n",
       "      <td>CRISTAL DECISIONS</td>\n",
       "      <td>11-50 employés</td>\n",
       "      <td>https://www.linkedin.com/company/cristal-decis...</td>\n",
       "      <td>Services et conseil aux entreprises</td>\n",
       "      <td>Optimisation des achats indirects, Assurances,...</td>\n",
       "      <td>Jean BERTOLETTI</td>\n",
       "      <td>Directeur associé - Cristal Décisions</td>\n",
       "      <td>https://www.linkedin.com/in/jean-bertoletti/</td>\n",
       "      <td>linkedin</td>\n",
       "      <td>senior business developer</td>\n",
       "      <td>Business developer spécialisé Mobilité</td>\n",
       "      <td>À propos de l’offre d’emploi\\n✨ Qui sommes-nou...</td>\n",
       "      <td>https://www.linkedin.com/jobs/search/?currentJ...</td>\n",
       "    </tr>\n",
       "  </tbody>\n",
       "</table>\n",
       "</div>"
      ],
      "text/plain": [
       "   index       company_name    company_size  \\\n",
       "0      1  CRISTAL DECISIONS  11-50 employés   \n",
       "1      1  CRISTAL DECISIONS  11-50 employés   \n",
       "\n",
       "                                company_linkedin_url  \\\n",
       "0  https://www.linkedin.com/company/cristal-decis...   \n",
       "1  https://www.linkedin.com/company/cristal-decis...   \n",
       "\n",
       "                               Secteur  \\\n",
       "0  Services et conseil aux entreprises   \n",
       "1  Services et conseil aux entreprises   \n",
       "\n",
       "                                     Spécialisations     Profile_name  \\\n",
       "0  Optimisation des achats indirects, Assurances,...   Laurent HORNEZ   \n",
       "1  Optimisation des achats indirects, Assurances,...  Jean BERTOLETTI   \n",
       "\n",
       "                            Profile_role  \\\n",
       "0  Directeur associé - Cristal Décisions   \n",
       "1  Directeur associé - Cristal Décisions   \n",
       "\n",
       "                                    Profile_linkedin job_source  \\\n",
       "0  https://www.linkedin.com/in/laurent-hornez-307...   linkedin   \n",
       "1       https://www.linkedin.com/in/jean-bertoletti/   linkedin   \n",
       "\n",
       "                   key_words                               job_title  \\\n",
       "0  senior business developer  Business developer spécialisé Mobilité   \n",
       "1  senior business developer  Business developer spécialisé Mobilité   \n",
       "\n",
       "                                     job_description  \\\n",
       "0  À propos de l’offre d’emploi\\n✨ Qui sommes-nou...   \n",
       "1  À propos de l’offre d’emploi\\n✨ Qui sommes-nou...   \n",
       "\n",
       "                                             job_url  \n",
       "0  https://www.linkedin.com/jobs/search/?currentJ...  \n",
       "1  https://www.linkedin.com/jobs/search/?currentJ...  "
      ]
     },
     "execution_count": 5,
     "metadata": {},
     "output_type": "execute_result"
    }
   ],
   "source": [
    "import pandas as pd\n",
    "\n",
    "df = pd.read_excel('./job_offers_11-12-2024_00h00min - Copy.xlsx')\n",
    "df2 = pd.read_excel('./2_job_offers_12-12-2024.xlsx')\n",
    "df.head(2)"
   ]
  },
  {
   "cell_type": "code",
   "execution_count": 7,
   "id": "a7d2270b-9f71-44aa-b75b-3aa89ae8282e",
   "metadata": {},
   "outputs": [
    {
     "data": {
      "text/plain": [
       "Index(['index', 'company_name', 'company_size', 'company_linkedin_url',\n",
       "       'Secteur', 'Spécialisations', 'Profile_name', 'Profile_role',\n",
       "       'Profile_linkedin', 'job_source', 'key_words', 'job_title',\n",
       "       'job_description', 'job_url'],\n",
       "      dtype='object')"
      ]
     },
     "execution_count": 7,
     "metadata": {},
     "output_type": "execute_result"
    }
   ],
   "source": [
    "df.columns"
   ]
  },
  {
   "cell_type": "code",
   "execution_count": 67,
   "id": "31c3ad3c-2fc0-462d-8068-9ecf33bbc0c0",
   "metadata": {},
   "outputs": [
    {
     "data": {
      "text/plain": [
       "(57, 2)"
      ]
     },
     "execution_count": 67,
     "metadata": {},
     "output_type": "execute_result"
    }
   ],
   "source": [
    "old_company_list = list(set(list(df['company_name'])))\n",
    "new_company_list = list(set(list(df2['company_name'])))\n",
    "len(old_company_list), len(new_company_list)"
   ]
  },
  {
   "cell_type": "code",
   "execution_count": null,
   "id": "42f2bf69-f655-453b-922c-5d609f6ed452",
   "metadata": {},
   "outputs": [],
   "source": []
  },
  {
   "cell_type": "code",
   "execution_count": null,
   "id": "b353ffe8-4a85-4f92-9020-bc8c35bbb5d1",
   "metadata": {},
   "outputs": [],
   "source": []
  },
  {
   "cell_type": "code",
   "execution_count": 166,
   "id": "620ab07e-7149-4938-ba35-4373306c84c8",
   "metadata": {},
   "outputs": [
    {
     "data": {
      "text/plain": [
       "(False, True)"
      ]
     },
     "execution_count": 166,
     "metadata": {},
     "output_type": "execute_result"
    }
   ],
   "source": [
    "new_company_list = ['Learnation Group','UX-Republic', 'UPTOO', 'Anaxago','Eurofiber France','1Nebula','Talink','Partenor Digital','PROEVOLUTION.PRO',\n",
    "                    'Pretto','ALTHEA','B-SSI','AccessiWay','FeelAgile','Générationnel','otimo','Pennylane','Velvet Consulting','EasyVista',\n",
    "                    'PLÉIADE CONSULTING', 'RX France', 'Alma', 'GROUPE WATERAIR', 'Coudac', 'ABGi France', 'Lease a Bike | France', 'Diapason'\n",
    "                   ]\n",
    "\n",
    "new_company = ' Diapason '\n",
    "new_company.strip() in old_company_list, new_company.strip() in new_company_list"
   ]
  },
  {
   "cell_type": "code",
   "execution_count": null,
   "id": "d3109b08-e1f1-41a7-bb1b-914ea5ebd5ac",
   "metadata": {},
   "outputs": [],
   "source": []
  },
  {
   "cell_type": "code",
   "execution_count": null,
   "id": "cb49a589-5c53-4e80-83bd-b16d8b073584",
   "metadata": {},
   "outputs": [],
   "source": []
  },
  {
   "cell_type": "code",
   "execution_count": null,
   "id": "8abb6b6c-b6d9-4a16-8676-4d613cde5915",
   "metadata": {},
   "outputs": [],
   "source": []
  }
 ],
 "metadata": {
  "kernelspec": {
   "display_name": "Python 3 (ipykernel)",
   "language": "python",
   "name": "python3"
  },
  "language_info": {
   "codemirror_mode": {
    "name": "ipython",
    "version": 3
   },
   "file_extension": ".py",
   "mimetype": "text/x-python",
   "name": "python",
   "nbconvert_exporter": "python",
   "pygments_lexer": "ipython3",
   "version": "3.12.4"
  }
 },
 "nbformat": 4,
 "nbformat_minor": 5
}
